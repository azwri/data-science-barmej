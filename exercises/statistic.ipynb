{
 "cells": [
  {
   "cell_type": "code",
   "execution_count": 20,
   "metadata": {},
   "outputs": [],
   "source": [
    "import numpy as np"
   ]
  },
  {
   "cell_type": "code",
   "execution_count": 21,
   "metadata": {},
   "outputs": [],
   "source": [
    "grades = [76,53,54,49,68,336,77,52,63,57,74,39,56,71,49,58,51,60,65,\n",
    "          48,71,69,65,69,53,58,50,57,76,53,54,49,68,36,77,52,63,57,\n",
    "          74,39,56,71,49,58,51,60,65,48,71,69,65,69,53,58,50,57,76,\n",
    "          53,54,49,68,36,77,52,63,57,74,39,56,71,49,58,51,60,65,48,\n",
    "          71,69,65,69,53,58,50,57]"
   ]
  },
  {
   "cell_type": "code",
   "execution_count": 22,
   "metadata": {},
   "outputs": [
    {
     "data": {
      "text/plain": [
       "array([ 76,  53,  54,  49,  68, 336,  77,  52,  63,  57,  74,  39,  56,\n",
       "        71,  49,  58,  51,  60,  65,  48,  71,  69,  65,  69,  53,  58,\n",
       "        50,  57,  76,  53,  54,  49,  68,  36,  77,  52,  63,  57,  74,\n",
       "        39,  56,  71,  49,  58,  51,  60,  65,  48,  71,  69,  65,  69,\n",
       "        53,  58,  50,  57,  76,  53,  54,  49,  68,  36,  77,  52,  63,\n",
       "        57,  74,  39,  56,  71,  49,  58,  51,  60,  65,  48,  71,  69,\n",
       "        65,  69,  53,  58,  50,  57])"
      ]
     },
     "execution_count": 22,
     "metadata": {},
     "output_type": "execute_result"
    }
   ],
   "source": [
    "grades = np.array(grades)\n",
    "grades"
   ]
  },
  {
   "cell_type": "markdown",
   "metadata": {},
   "source": [
    "### Mean"
   ]
  },
  {
   "cell_type": "code",
   "execution_count": 23,
   "metadata": {},
   "outputs": [
    {
     "name": "stdout",
     "output_type": "stream",
     "text": [
      "62.42857142857143\n",
      "62.42857142857143\n"
     ]
    }
   ],
   "source": [
    "print(np.mean(grades))\n",
    "print(grades.mean())"
   ]
  },
  {
   "cell_type": "markdown",
   "metadata": {},
   "source": [
    "### Median"
   ]
  },
  {
   "cell_type": "code",
   "execution_count": 24,
   "metadata": {},
   "outputs": [
    {
     "name": "stdout",
     "output_type": "stream",
     "text": [
      "58.0\n"
     ]
    }
   ],
   "source": [
    "print(np.median(grades))"
   ]
  },
  {
   "cell_type": "markdown",
   "metadata": {},
   "source": [
    "### Variane"
   ]
  },
  {
   "cell_type": "code",
   "execution_count": 25,
   "metadata": {},
   "outputs": [
    {
     "name": "stdout",
     "output_type": "stream",
     "text": [
      "1004.5306122448978\n"
     ]
    }
   ],
   "source": [
    "print(np.var(grades))"
   ]
  },
  {
   "cell_type": "markdown",
   "metadata": {},
   "source": [
    "### STD"
   ]
  },
  {
   "cell_type": "code",
   "execution_count": 26,
   "metadata": {},
   "outputs": [
    {
     "name": "stdout",
     "output_type": "stream",
     "text": [
      "31.694330916504576\n"
     ]
    }
   ],
   "source": [
    "print(np.std(grades))"
   ]
  },
  {
   "cell_type": "code",
   "execution_count": null,
   "metadata": {},
   "outputs": [],
   "source": []
  },
  {
   "cell_type": "code",
   "execution_count": null,
   "metadata": {},
   "outputs": [],
   "source": []
  }
 ],
 "metadata": {
  "kernelspec": {
   "display_name": "Python 3",
   "language": "python",
   "name": "python3"
  },
  "language_info": {
   "codemirror_mode": {
    "name": "ipython",
    "version": 3
   },
   "file_extension": ".py",
   "mimetype": "text/x-python",
   "name": "python",
   "nbconvert_exporter": "python",
   "pygments_lexer": "ipython3",
   "version": "3.7.3"
  }
 },
 "nbformat": 4,
 "nbformat_minor": 4
}
