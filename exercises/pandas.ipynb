{
 "cells": [
  {
   "cell_type": "code",
   "execution_count": 2,
   "metadata": {},
   "outputs": [],
   "source": [
    "import numpy as np\n",
    "import pandas as pd\n",
    "import matplotlib.pyplot as plt\n",
    "import seaborn as sns\n",
    "%matplotlib inline"
   ]
  },
  {
   "cell_type": "code",
   "execution_count": 3,
   "metadata": {},
   "outputs": [],
   "source": [
    "data = pd.read_csv('gapminder-FiveYearData.csv')"
   ]
  },
  {
   "cell_type": "code",
   "execution_count": 4,
   "metadata": {},
   "outputs": [
    {
     "data": {
      "text/plain": [
       "Index(['country', 'year', 'pop', 'continent', 'lifeExp', 'gdpPercap'], dtype='object')"
      ]
     },
     "execution_count": 4,
     "metadata": {},
     "output_type": "execute_result"
    }
   ],
   "source": [
    "data.columns"
   ]
  },
  {
   "cell_type": "code",
   "execution_count": 5,
   "metadata": {},
   "outputs": [
    {
     "name": "stdout",
     "output_type": "stream",
     "text": [
      "<class 'pandas.core.frame.DataFrame'>\n",
      "RangeIndex: 1704 entries, 0 to 1703\n",
      "Data columns (total 6 columns):\n",
      " #   Column     Non-Null Count  Dtype  \n",
      "---  ------     --------------  -----  \n",
      " 0   country    1704 non-null   object \n",
      " 1   year       1704 non-null   int64  \n",
      " 2   pop        1704 non-null   float64\n",
      " 3   continent  1704 non-null   object \n",
      " 4   lifeExp    1704 non-null   float64\n",
      " 5   gdpPercap  1704 non-null   float64\n",
      "dtypes: float64(3), int64(1), object(2)\n",
      "memory usage: 80.0+ KB\n"
     ]
    }
   ],
   "source": [
    "data.info()"
   ]
  },
  {
   "cell_type": "code",
   "execution_count": 60,
   "metadata": {},
   "outputs": [],
   "source": [
    "new_row = [1,3,5]\n",
    "new_col = ['country', 'continent']"
   ]
  },
  {
   "cell_type": "code",
   "execution_count": 61,
   "metadata": {},
   "outputs": [
    {
     "data": {
      "text/html": [
       "<div>\n",
       "<style scoped>\n",
       "    .dataframe tbody tr th:only-of-type {\n",
       "        vertical-align: middle;\n",
       "    }\n",
       "\n",
       "    .dataframe tbody tr th {\n",
       "        vertical-align: top;\n",
       "    }\n",
       "\n",
       "    .dataframe thead th {\n",
       "        text-align: right;\n",
       "    }\n",
       "</style>\n",
       "<table border=\"1\" class=\"dataframe\">\n",
       "  <thead>\n",
       "    <tr style=\"text-align: right;\">\n",
       "      <th></th>\n",
       "      <th>country</th>\n",
       "      <th>continent</th>\n",
       "    </tr>\n",
       "  </thead>\n",
       "  <tbody>\n",
       "    <tr>\n",
       "      <th>1</th>\n",
       "      <td>Afghanistan</td>\n",
       "      <td>Asia</td>\n",
       "    </tr>\n",
       "    <tr>\n",
       "      <th>3</th>\n",
       "      <td>Afghanistan</td>\n",
       "      <td>Asia</td>\n",
       "    </tr>\n",
       "    <tr>\n",
       "      <th>5</th>\n",
       "      <td>Afghanistan</td>\n",
       "      <td>Asia</td>\n",
       "    </tr>\n",
       "  </tbody>\n",
       "</table>\n",
       "</div>"
      ],
      "text/plain": [
       "       country continent\n",
       "1  Afghanistan      Asia\n",
       "3  Afghanistan      Asia\n",
       "5  Afghanistan      Asia"
      ]
     },
     "execution_count": 61,
     "metadata": {},
     "output_type": "execute_result"
    }
   ],
   "source": [
    "data.loc[new_row, new_col]"
   ]
  },
  {
   "cell_type": "code",
   "execution_count": 63,
   "metadata": {},
   "outputs": [],
   "source": [
    "# data[(data['country'] == 'Saudi Arabia') & (data['continent'] == 'Asia')]"
   ]
  },
  {
   "cell_type": "code",
   "execution_count": 67,
   "metadata": {},
   "outputs": [],
   "source": [
    "sa = (data['country'] == 'Saudi Arabia') & (data['continent'] == 'Asia')"
   ]
  },
  {
   "cell_type": "code",
   "execution_count": 65,
   "metadata": {},
   "outputs": [
    {
     "data": {
      "text/plain": [
       "False    1692\n",
       "True       12\n",
       "dtype: int64"
      ]
     },
     "execution_count": 65,
     "metadata": {},
     "output_type": "execute_result"
    }
   ],
   "source": [
    "sa.value_counts()"
   ]
  },
  {
   "cell_type": "code",
   "execution_count": 69,
   "metadata": {},
   "outputs": [
    {
     "data": {
      "text/plain": [
       "0    False\n",
       "1    False\n",
       "2    False\n",
       "3    False\n",
       "4    False\n",
       "5    False\n",
       "6    False\n",
       "7    False\n",
       "8    False\n",
       "9    False\n",
       "dtype: bool"
      ]
     },
     "execution_count": 69,
     "metadata": {},
     "output_type": "execute_result"
    }
   ],
   "source": [
    "sa[0:10]"
   ]
  },
  {
   "cell_type": "code",
   "execution_count": 70,
   "metadata": {},
   "outputs": [
    {
     "data": {
      "text/html": [
       "<div>\n",
       "<style scoped>\n",
       "    .dataframe tbody tr th:only-of-type {\n",
       "        vertical-align: middle;\n",
       "    }\n",
       "\n",
       "    .dataframe tbody tr th {\n",
       "        vertical-align: top;\n",
       "    }\n",
       "\n",
       "    .dataframe thead th {\n",
       "        text-align: right;\n",
       "    }\n",
       "</style>\n",
       "<table border=\"1\" class=\"dataframe\">\n",
       "  <thead>\n",
       "    <tr style=\"text-align: right;\">\n",
       "      <th></th>\n",
       "      <th>country</th>\n",
       "      <th>year</th>\n",
       "      <th>pop</th>\n",
       "      <th>continent</th>\n",
       "      <th>lifeExp</th>\n",
       "      <th>gdpPercap</th>\n",
       "    </tr>\n",
       "  </thead>\n",
       "  <tbody>\n",
       "    <tr>\n",
       "      <th>1308</th>\n",
       "      <td>Saudi Arabia</td>\n",
       "      <td>1952</td>\n",
       "      <td>4005677.0</td>\n",
       "      <td>Asia</td>\n",
       "      <td>39.875</td>\n",
       "      <td>6459.554823</td>\n",
       "    </tr>\n",
       "    <tr>\n",
       "      <th>1309</th>\n",
       "      <td>Saudi Arabia</td>\n",
       "      <td>1957</td>\n",
       "      <td>4419650.0</td>\n",
       "      <td>Asia</td>\n",
       "      <td>42.868</td>\n",
       "      <td>8157.591248</td>\n",
       "    </tr>\n",
       "    <tr>\n",
       "      <th>1310</th>\n",
       "      <td>Saudi Arabia</td>\n",
       "      <td>1962</td>\n",
       "      <td>4943029.0</td>\n",
       "      <td>Asia</td>\n",
       "      <td>45.914</td>\n",
       "      <td>11626.419750</td>\n",
       "    </tr>\n",
       "    <tr>\n",
       "      <th>1311</th>\n",
       "      <td>Saudi Arabia</td>\n",
       "      <td>1967</td>\n",
       "      <td>5618198.0</td>\n",
       "      <td>Asia</td>\n",
       "      <td>49.901</td>\n",
       "      <td>16903.048860</td>\n",
       "    </tr>\n",
       "    <tr>\n",
       "      <th>1312</th>\n",
       "      <td>Saudi Arabia</td>\n",
       "      <td>1972</td>\n",
       "      <td>6472756.0</td>\n",
       "      <td>Asia</td>\n",
       "      <td>53.886</td>\n",
       "      <td>24837.428650</td>\n",
       "    </tr>\n",
       "    <tr>\n",
       "      <th>1313</th>\n",
       "      <td>Saudi Arabia</td>\n",
       "      <td>1977</td>\n",
       "      <td>8128505.0</td>\n",
       "      <td>Asia</td>\n",
       "      <td>58.690</td>\n",
       "      <td>34167.762600</td>\n",
       "    </tr>\n",
       "    <tr>\n",
       "      <th>1314</th>\n",
       "      <td>Saudi Arabia</td>\n",
       "      <td>1982</td>\n",
       "      <td>11254672.0</td>\n",
       "      <td>Asia</td>\n",
       "      <td>63.012</td>\n",
       "      <td>33693.175250</td>\n",
       "    </tr>\n",
       "    <tr>\n",
       "      <th>1315</th>\n",
       "      <td>Saudi Arabia</td>\n",
       "      <td>1987</td>\n",
       "      <td>14619745.0</td>\n",
       "      <td>Asia</td>\n",
       "      <td>66.295</td>\n",
       "      <td>21198.261360</td>\n",
       "    </tr>\n",
       "    <tr>\n",
       "      <th>1316</th>\n",
       "      <td>Saudi Arabia</td>\n",
       "      <td>1992</td>\n",
       "      <td>16945857.0</td>\n",
       "      <td>Asia</td>\n",
       "      <td>68.768</td>\n",
       "      <td>24841.617770</td>\n",
       "    </tr>\n",
       "    <tr>\n",
       "      <th>1317</th>\n",
       "      <td>Saudi Arabia</td>\n",
       "      <td>1997</td>\n",
       "      <td>21229759.0</td>\n",
       "      <td>Asia</td>\n",
       "      <td>70.533</td>\n",
       "      <td>20586.690190</td>\n",
       "    </tr>\n",
       "    <tr>\n",
       "      <th>1318</th>\n",
       "      <td>Saudi Arabia</td>\n",
       "      <td>2002</td>\n",
       "      <td>24501530.0</td>\n",
       "      <td>Asia</td>\n",
       "      <td>71.626</td>\n",
       "      <td>19014.541180</td>\n",
       "    </tr>\n",
       "    <tr>\n",
       "      <th>1319</th>\n",
       "      <td>Saudi Arabia</td>\n",
       "      <td>2007</td>\n",
       "      <td>27601038.0</td>\n",
       "      <td>Asia</td>\n",
       "      <td>72.777</td>\n",
       "      <td>21654.831940</td>\n",
       "    </tr>\n",
       "  </tbody>\n",
       "</table>\n",
       "</div>"
      ],
      "text/plain": [
       "           country  year         pop continent  lifeExp     gdpPercap\n",
       "1308  Saudi Arabia  1952   4005677.0      Asia   39.875   6459.554823\n",
       "1309  Saudi Arabia  1957   4419650.0      Asia   42.868   8157.591248\n",
       "1310  Saudi Arabia  1962   4943029.0      Asia   45.914  11626.419750\n",
       "1311  Saudi Arabia  1967   5618198.0      Asia   49.901  16903.048860\n",
       "1312  Saudi Arabia  1972   6472756.0      Asia   53.886  24837.428650\n",
       "1313  Saudi Arabia  1977   8128505.0      Asia   58.690  34167.762600\n",
       "1314  Saudi Arabia  1982  11254672.0      Asia   63.012  33693.175250\n",
       "1315  Saudi Arabia  1987  14619745.0      Asia   66.295  21198.261360\n",
       "1316  Saudi Arabia  1992  16945857.0      Asia   68.768  24841.617770\n",
       "1317  Saudi Arabia  1997  21229759.0      Asia   70.533  20586.690190\n",
       "1318  Saudi Arabia  2002  24501530.0      Asia   71.626  19014.541180\n",
       "1319  Saudi Arabia  2007  27601038.0      Asia   72.777  21654.831940"
      ]
     },
     "execution_count": 70,
     "metadata": {},
     "output_type": "execute_result"
    }
   ],
   "source": [
    "data.loc[sa, data.select_dtypes('object').columns]\n",
    "data.loc[sa]"
   ]
  },
  {
   "cell_type": "code",
   "execution_count": 43,
   "metadata": {},
   "outputs": [
    {
     "data": {
      "text/plain": [
       "Index(['country', 'continent'], dtype='object')"
      ]
     },
     "execution_count": 43,
     "metadata": {},
     "output_type": "execute_result"
    }
   ],
   "source": [
    "data.select_dtypes('object').columns"
   ]
  },
  {
   "cell_type": "code",
   "execution_count": 91,
   "metadata": {},
   "outputs": [
    {
     "data": {
      "text/plain": [
       "0       Afghanistan\n",
       "1       Afghanistan\n",
       "2       Afghanistan\n",
       "3       Afghanistan\n",
       "4       Afghanistan\n",
       "           ...     \n",
       "1675     Yemen Rep.\n",
       "1676     Yemen Rep.\n",
       "1677     Yemen Rep.\n",
       "1678     Yemen Rep.\n",
       "1679     Yemen Rep.\n",
       "Name: country, Length: 396, dtype: object"
      ]
     },
     "execution_count": 91,
     "metadata": {},
     "output_type": "execute_result"
    }
   ],
   "source": [
    "data['country'][data['continent'] == 'Asia']"
   ]
  },
  {
   "cell_type": "code",
   "execution_count": 87,
   "metadata": {},
   "outputs": [
    {
     "data": {
      "text/plain": [
       "33"
      ]
     },
     "execution_count": 87,
     "metadata": {},
     "output_type": "execute_result"
    }
   ],
   "source": [
    "len(set(data['country'][data['continent'] == 'Asia'].unique()))\n"
   ]
  },
  {
   "cell_type": "code",
   "execution_count": null,
   "metadata": {},
   "outputs": [],
   "source": []
  }
 ],
 "metadata": {
  "kernelspec": {
   "display_name": "Python 3",
   "language": "python",
   "name": "python3"
  },
  "language_info": {
   "codemirror_mode": {
    "name": "ipython",
    "version": 3
   },
   "file_extension": ".py",
   "mimetype": "text/x-python",
   "name": "python",
   "nbconvert_exporter": "python",
   "pygments_lexer": "ipython3",
   "version": "3.7.3"
  }
 },
 "nbformat": 4,
 "nbformat_minor": 4
}
